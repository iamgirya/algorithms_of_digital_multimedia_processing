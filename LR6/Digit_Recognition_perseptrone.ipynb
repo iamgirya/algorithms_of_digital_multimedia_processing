{
 "cells": [
  {
   "cell_type": "code",
   "execution_count": 34,
   "metadata": {},
   "outputs": [
    {
     "name": "stdout",
     "output_type": "stream",
     "text": [
      "(60000, 28, 28) (60000,)\n"
     ]
    }
   ],
   "source": [
    "import keras\n",
    "from keras.datasets import mnist\n",
    "from keras.models import Sequential\n",
    "from keras.layers import Dense, Dropout, Flatten\n",
    "from keras.layers import Conv2D, MaxPooling2D\n",
    "from keras import backend as K\n",
    "\n",
    "# скачиваем данные и разделяем на надор для обучения и тесовый\n",
    "(x_train, y_train), (x_test, y_test) = mnist.load_data()\n",
    "\n",
    "print(x_train.shape, y_train.shape)"
   ]
  },
  {
   "cell_type": "code",
   "execution_count": 35,
   "metadata": {},
   "outputs": [
    {
     "name": "stdout",
     "output_type": "stream",
     "text": [
      "Размерность x_train: (60000, 28, 28, 1)\n",
      "60000 Размер train\n",
      "10000 Размер test\n"
     ]
    }
   ],
   "source": [
    "num_classes = 10\n",
    "x_train = x_train.reshape(x_train.shape[0], 28, 28, 1)\n",
    "x_test = x_test.reshape(x_test.shape[0], 28, 28, 1)\n",
    "input_shape = (28, 28, 1)\n",
    "\n",
    "# преобразование векторных классов в бинарные матрицы\n",
    "y_train = keras.utils.to_categorical(y_train, num_classes)\n",
    "y_test = keras.utils.to_categorical(y_test, num_classes)\n",
    "\n",
    "x_train = x_train.astype('float32')\n",
    "x_test = x_test.astype('float32')\n",
    "x_train /= 255\n",
    "x_test /= 255\n",
    "print('Размерность x_train:', x_train.shape)\n",
    "print(x_train.shape[0], 'Размер train')\n",
    "print(x_test.shape[0], 'Размер test')"
   ]
  },
  {
   "cell_type": "code",
   "execution_count": 36,
   "metadata": {},
   "outputs": [],
   "source": [
    "batch_size = 128\n",
    "epochs = 35\n",
    "\n",
    "# initial model\n",
    "model = Sequential()\n",
    "# creat a flatten layer\n",
    "model.add(Flatten(input_shape=(28, 28)))\n",
    "# adding layers, first layer 8 units, second one 4 units and relu activation function\n",
    "model.add(Dense(8, activation='relu'))\n",
    "model.add(Dense(4, activation='relu'))\n",
    "# output layer, with shape of 10(output shape) and softmax activation function\n",
    "model.add(Dense(10, activation='softmax'))\n",
    "\n",
    "# compile the model, with Adam optimizer, SparaseCategoricalCrossentrpy(because labels aren't in one-hot encoding)\n",
    "model.compile(\n",
    "    optimizer=keras.optimizers.Adam(),\n",
    "    loss=keras.losses.categorical_crossentropy,\n",
    "    metrics=['accuracy']\n",
    ")"
   ]
  },
  {
   "cell_type": "code",
   "execution_count": 37,
   "metadata": {},
   "outputs": [
    {
     "name": "stdout",
     "output_type": "stream",
     "text": [
      "Epoch 1/35\n",
      "469/469 [==============================] - 1s 1ms/step - loss: 1.2313 - accuracy: 0.6158 - val_loss: 0.6990 - val_accuracy: 0.8087\n",
      "Epoch 2/35\n",
      "469/469 [==============================] - 0s 970us/step - loss: 0.5948 - accuracy: 0.8401 - val_loss: 0.5263 - val_accuracy: 0.8601\n",
      "Epoch 3/35\n",
      "469/469 [==============================] - 0s 962us/step - loss: 0.4941 - accuracy: 0.8665 - val_loss: 0.4681 - val_accuracy: 0.8755\n",
      "Epoch 4/35\n",
      "469/469 [==============================] - 0s 1ms/step - loss: 0.4509 - accuracy: 0.8779 - val_loss: 0.4366 - val_accuracy: 0.8827\n",
      "Epoch 5/35\n",
      "469/469 [==============================] - 0s 985us/step - loss: 0.4230 - accuracy: 0.8852 - val_loss: 0.4133 - val_accuracy: 0.8889\n",
      "Epoch 6/35\n",
      "469/469 [==============================] - 0s 991us/step - loss: 0.4014 - accuracy: 0.8906 - val_loss: 0.4005 - val_accuracy: 0.8915\n",
      "Epoch 7/35\n",
      "469/469 [==============================] - 0s 988us/step - loss: 0.3855 - accuracy: 0.8950 - val_loss: 0.3884 - val_accuracy: 0.8955\n",
      "Epoch 8/35\n",
      "469/469 [==============================] - 0s 985us/step - loss: 0.3721 - accuracy: 0.8977 - val_loss: 0.3808 - val_accuracy: 0.8951\n",
      "Epoch 9/35\n",
      "469/469 [==============================] - 0s 1ms/step - loss: 0.3615 - accuracy: 0.9002 - val_loss: 0.3739 - val_accuracy: 0.8997\n",
      "Epoch 10/35\n",
      "469/469 [==============================] - 0s 989us/step - loss: 0.3521 - accuracy: 0.9029 - val_loss: 0.3674 - val_accuracy: 0.8973\n",
      "Epoch 11/35\n",
      "469/469 [==============================] - 0s 988us/step - loss: 0.3441 - accuracy: 0.9052 - val_loss: 0.3613 - val_accuracy: 0.8991\n",
      "Epoch 12/35\n",
      "469/469 [==============================] - 0s 988us/step - loss: 0.3383 - accuracy: 0.9064 - val_loss: 0.3613 - val_accuracy: 0.9006\n",
      "Epoch 13/35\n",
      "469/469 [==============================] - 0s 989us/step - loss: 0.3316 - accuracy: 0.9079 - val_loss: 0.3579 - val_accuracy: 0.9013\n",
      "Epoch 14/35\n",
      "469/469 [==============================] - 0s 988us/step - loss: 0.3264 - accuracy: 0.9091 - val_loss: 0.3534 - val_accuracy: 0.9036\n",
      "Epoch 15/35\n",
      "469/469 [==============================] - 0s 988us/step - loss: 0.3213 - accuracy: 0.9116 - val_loss: 0.3560 - val_accuracy: 0.9021\n",
      "Epoch 16/35\n",
      "469/469 [==============================] - 0s 986us/step - loss: 0.3179 - accuracy: 0.9130 - val_loss: 0.3467 - val_accuracy: 0.9051\n",
      "Epoch 17/35\n",
      "469/469 [==============================] - 0s 993us/step - loss: 0.3143 - accuracy: 0.9129 - val_loss: 0.3445 - val_accuracy: 0.9050\n",
      "Epoch 18/35\n",
      "469/469 [==============================] - 0s 986us/step - loss: 0.3105 - accuracy: 0.9139 - val_loss: 0.3442 - val_accuracy: 0.9076\n",
      "Epoch 19/35\n",
      "469/469 [==============================] - 0s 989us/step - loss: 0.3086 - accuracy: 0.9154 - val_loss: 0.3426 - val_accuracy: 0.9070\n",
      "Epoch 20/35\n",
      "469/469 [==============================] - 0s 992us/step - loss: 0.3044 - accuracy: 0.9157 - val_loss: 0.3505 - val_accuracy: 0.9030\n",
      "Epoch 21/35\n",
      "469/469 [==============================] - 1s 1ms/step - loss: 0.3013 - accuracy: 0.9164 - val_loss: 0.3385 - val_accuracy: 0.9070\n",
      "Epoch 22/35\n",
      "469/469 [==============================] - 1s 1ms/step - loss: 0.2978 - accuracy: 0.9176 - val_loss: 0.3396 - val_accuracy: 0.9069\n",
      "Epoch 23/35\n",
      "469/469 [==============================] - 1s 1ms/step - loss: 0.2969 - accuracy: 0.9172 - val_loss: 0.3382 - val_accuracy: 0.9065\n",
      "Epoch 24/35\n",
      "469/469 [==============================] - 1s 1ms/step - loss: 0.2935 - accuracy: 0.9190 - val_loss: 0.3347 - val_accuracy: 0.9068\n",
      "Epoch 25/35\n",
      "469/469 [==============================] - 0s 1ms/step - loss: 0.2915 - accuracy: 0.9184 - val_loss: 0.3360 - val_accuracy: 0.9057\n",
      "Epoch 26/35\n",
      "469/469 [==============================] - 1s 1ms/step - loss: 0.2896 - accuracy: 0.9202 - val_loss: 0.3349 - val_accuracy: 0.9077\n",
      "Epoch 27/35\n",
      "469/469 [==============================] - 0s 1ms/step - loss: 0.2877 - accuracy: 0.9199 - val_loss: 0.3340 - val_accuracy: 0.9084\n",
      "Epoch 28/35\n",
      "469/469 [==============================] - 1s 1ms/step - loss: 0.2855 - accuracy: 0.9211 - val_loss: 0.3349 - val_accuracy: 0.9081\n",
      "Epoch 29/35\n",
      "469/469 [==============================] - 1s 1ms/step - loss: 0.2836 - accuracy: 0.9215 - val_loss: 0.3290 - val_accuracy: 0.9117\n",
      "Epoch 30/35\n",
      "469/469 [==============================] - 1s 1ms/step - loss: 0.2824 - accuracy: 0.9218 - val_loss: 0.3297 - val_accuracy: 0.9116\n",
      "Epoch 31/35\n",
      "469/469 [==============================] - 0s 1ms/step - loss: 0.2806 - accuracy: 0.9220 - val_loss: 0.3284 - val_accuracy: 0.9108\n",
      "Epoch 32/35\n",
      "469/469 [==============================] - 1s 1ms/step - loss: 0.2794 - accuracy: 0.9223 - val_loss: 0.3271 - val_accuracy: 0.9130\n",
      "Epoch 33/35\n",
      "469/469 [==============================] - 1s 1ms/step - loss: 0.2787 - accuracy: 0.9229 - val_loss: 0.3248 - val_accuracy: 0.9137\n",
      "Epoch 34/35\n",
      "469/469 [==============================] - 0s 1ms/step - loss: 0.2770 - accuracy: 0.9233 - val_loss: 0.3283 - val_accuracy: 0.9129\n",
      "Epoch 35/35\n",
      "469/469 [==============================] - 0s 1ms/step - loss: 0.2756 - accuracy: 0.9234 - val_loss: 0.3382 - val_accuracy: 0.9088\n",
      "Модель успешно обучена\n",
      "Модель сохранена как perseptrone.keras\n"
     ]
    }
   ],
   "source": [
    "hist = model.fit(x_train, y_train, batch_size = batch_size, epochs=epochs, verbose=1, validation_data=(x_test, y_test))\n",
    "print(\"Модель успешно обучена\")\n",
    "\n",
    "model.save('perseptrone' +str(epochs)+'.keras')\n",
    "print(\"Модель сохранена как perseptrone.keras\")"
   ]
  },
  {
   "cell_type": "code",
   "execution_count": 38,
   "metadata": {},
   "outputs": [
    {
     "name": "stdout",
     "output_type": "stream",
     "text": [
      "Потери на тесте: 0.3382244110107422\n",
      "Точность на тесте: 0.9088000059127808\n"
     ]
    }
   ],
   "source": [
    "score = model.evaluate(x_test, y_test, verbose=0)\n",
    "print('Потери на тесте:', score[0])\n",
    "print('Точность на тесте:', score[1])"
   ]
  },
  {
   "cell_type": "code",
   "execution_count": null,
   "metadata": {},
   "outputs": [],
   "source": []
  }
 ],
 "metadata": {
  "kernelspec": {
   "display_name": "Python 3.10.5 64-bit",
   "language": "python",
   "name": "python3"
  },
  "language_info": {
   "codemirror_mode": {
    "name": "ipython",
    "version": 3
   },
   "file_extension": ".py",
   "mimetype": "text/x-python",
   "name": "python",
   "nbconvert_exporter": "python",
   "pygments_lexer": "ipython3",
   "version": "3.11.6"
  },
  "vscode": {
   "interpreter": {
    "hash": "da32c008e18680bd23a3b0298d87e0b0f65fe62bf040a4359d6bd4163b9d68be"
   }
  }
 },
 "nbformat": 4,
 "nbformat_minor": 2
}
