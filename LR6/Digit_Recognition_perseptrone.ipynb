{
 "cells": [
  {
   "cell_type": "code",
   "execution_count": 1,
   "metadata": {},
   "outputs": [
    {
     "name": "stdout",
     "output_type": "stream",
     "text": [
      "(60000, 28, 28) (60000,)\n"
     ]
    }
   ],
   "source": [
    "import keras\n",
    "from keras.datasets import mnist\n",
    "from keras.models import Sequential\n",
    "from keras.layers import Dense, Dropout, Flatten\n",
    "from keras.layers import Conv2D, MaxPooling2D\n",
    "from keras import backend as K\n",
    "\n",
    "# скачиваем данные и разделяем на надор для обучения и тесовый\n",
    "(x_train, y_train), (x_test, y_test) = mnist.load_data()\n",
    "\n",
    "print(x_train.shape, y_train.shape)"
   ]
  },
  {
   "cell_type": "code",
   "execution_count": 2,
   "metadata": {},
   "outputs": [
    {
     "name": "stdout",
     "output_type": "stream",
     "text": [
      "Размерность x_train: (60000, 28, 28, 1)\n",
      "60000 Размер train\n",
      "10000 Размер test\n"
     ]
    }
   ],
   "source": [
    "num_classes = 10\n",
    "x_train = x_train.reshape(x_train.shape[0], 28, 28, 1)\n",
    "x_test = x_test.reshape(x_test.shape[0], 28, 28, 1)\n",
    "input_shape = (28, 28, 1)\n",
    "\n",
    "# преобразование векторных классов в бинарные матрицы\n",
    "y_train = keras.utils.to_categorical(y_train, num_classes)\n",
    "y_test = keras.utils.to_categorical(y_test, num_classes)\n",
    "\n",
    "x_train = x_train.astype('float32')\n",
    "x_test = x_test.astype('float32')\n",
    "x_train /= 255\n",
    "x_test /= 255\n",
    "print('Размерность x_train:', x_train.shape)\n",
    "print(x_train.shape[0], 'Размер train')\n",
    "print(x_test.shape[0], 'Размер test')"
   ]
  },
  {
   "cell_type": "code",
   "execution_count": 3,
   "metadata": {},
   "outputs": [],
   "source": [
    "batch_size = 128\n",
    "epochs = 15\n",
    "\n",
    "# initial model\n",
    "model = Sequential()\n",
    "# creat a flatten layer\n",
    "model.add(Flatten(input_shape=(28, 28)))\n",
    "# adding layers, first layer 8 units, second one 4 units and relu activation function\n",
    "model.add(Dense(8, activation='relu'))\n",
    "model.add(Dense(4, activation='relu'))\n",
    "# output layer, with shape of 10(output shape) and softmax activation function\n",
    "model.add(Dense(10, activation='softmax'))\n",
    "\n",
    "# compile the model, with Adam optimizer, SparaseCategoricalCrossentrpy(because labels aren't in one-hot encoding)\n",
    "model.compile(\n",
    "    optimizer=keras.optimizers.Adam(),\n",
    "    loss=keras.losses.categorical_crossentropy,\n",
    "    metrics=['accuracy']\n",
    ")"
   ]
  },
  {
   "cell_type": "code",
   "execution_count": 4,
   "metadata": {},
   "outputs": [
    {
     "name": "stdout",
     "output_type": "stream",
     "text": [
      "Epoch 1/15\n",
      "469/469 [==============================] - 1s 2ms/step - loss: 1.4778 - accuracy: 0.4730 - val_loss: 1.0787 - val_accuracy: 0.6686\n",
      "Epoch 2/15\n",
      "469/469 [==============================] - 1s 1ms/step - loss: 0.8825 - accuracy: 0.7304 - val_loss: 0.7021 - val_accuracy: 0.7879\n",
      "Epoch 3/15\n",
      "469/469 [==============================] - 1s 2ms/step - loss: 0.6131 - accuracy: 0.8178 - val_loss: 0.5294 - val_accuracy: 0.8498\n",
      "Epoch 4/15\n",
      "469/469 [==============================] - 1s 2ms/step - loss: 0.5011 - accuracy: 0.8566 - val_loss: 0.4666 - val_accuracy: 0.8654\n",
      "Epoch 5/15\n",
      "469/469 [==============================] - 1s 2ms/step - loss: 0.4476 - accuracy: 0.8732 - val_loss: 0.4270 - val_accuracy: 0.8816\n",
      "Epoch 6/15\n",
      "469/469 [==============================] - 1s 2ms/step - loss: 0.4158 - accuracy: 0.8835 - val_loss: 0.4125 - val_accuracy: 0.8866\n",
      "Epoch 7/15\n",
      "469/469 [==============================] - 1s 2ms/step - loss: 0.3971 - accuracy: 0.8892 - val_loss: 0.3931 - val_accuracy: 0.8937\n",
      "Epoch 8/15\n",
      "469/469 [==============================] - 1s 2ms/step - loss: 0.3810 - accuracy: 0.8938 - val_loss: 0.3884 - val_accuracy: 0.8914\n",
      "Epoch 9/15\n",
      "469/469 [==============================] - 1s 3ms/step - loss: 0.3698 - accuracy: 0.8979 - val_loss: 0.3793 - val_accuracy: 0.8941\n",
      "Epoch 10/15\n",
      "469/469 [==============================] - 1s 2ms/step - loss: 0.3610 - accuracy: 0.9007 - val_loss: 0.3707 - val_accuracy: 0.8967\n",
      "Epoch 11/15\n",
      "469/469 [==============================] - 1s 2ms/step - loss: 0.3529 - accuracy: 0.9017 - val_loss: 0.3694 - val_accuracy: 0.8974\n",
      "Epoch 12/15\n",
      "469/469 [==============================] - 1s 2ms/step - loss: 0.3461 - accuracy: 0.9043 - val_loss: 0.3603 - val_accuracy: 0.9003\n",
      "Epoch 13/15\n",
      "469/469 [==============================] - 1s 2ms/step - loss: 0.3399 - accuracy: 0.9059 - val_loss: 0.3578 - val_accuracy: 0.9007\n",
      "Epoch 14/15\n",
      "469/469 [==============================] - 1s 2ms/step - loss: 0.3343 - accuracy: 0.9067 - val_loss: 0.3593 - val_accuracy: 0.9022\n",
      "Epoch 15/15\n",
      "469/469 [==============================] - 1s 2ms/step - loss: 0.3294 - accuracy: 0.9081 - val_loss: 0.3515 - val_accuracy: 0.9021\n",
      "Модель успешно обучена\n",
      "Модель сохранена как perseptrone.keras\n"
     ]
    }
   ],
   "source": [
    "hist = model.fit(x_train, y_train, batch_size = batch_size, epochs=epochs, verbose=1, validation_data=(x_test, y_test))\n",
    "print(\"Модель успешно обучена\")\n",
    "\n",
    "model.save('perseptrone' +str(epochs)+'.keras')\n",
    "print(\"Модель сохранена как perseptrone.keras\")"
   ]
  },
  {
   "cell_type": "code",
   "execution_count": 5,
   "metadata": {},
   "outputs": [
    {
     "name": "stdout",
     "output_type": "stream",
     "text": [
      "Потери на тесте: 0.35149815678596497\n",
      "Точность на тесте: 0.9021000266075134\n"
     ]
    }
   ],
   "source": [
    "score = model.evaluate(x_test, y_test, verbose=0)\n",
    "print('Потери на тесте:', score[0])\n",
    "print('Точность на тесте:', score[1])"
   ]
  },
  {
   "cell_type": "code",
   "execution_count": null,
   "metadata": {},
   "outputs": [],
   "source": []
  }
 ],
 "metadata": {
  "kernelspec": {
   "display_name": "Python 3.10.5 64-bit",
   "language": "python",
   "name": "python3"
  },
  "language_info": {
   "codemirror_mode": {
    "name": "ipython",
    "version": 3
   },
   "file_extension": ".py",
   "mimetype": "text/x-python",
   "name": "python",
   "nbconvert_exporter": "python",
   "pygments_lexer": "ipython3",
   "version": "3.11.6"
  },
  "vscode": {
   "interpreter": {
    "hash": "da32c008e18680bd23a3b0298d87e0b0f65fe62bf040a4359d6bd4163b9d68be"
   }
  }
 },
 "nbformat": 4,
 "nbformat_minor": 2
}
