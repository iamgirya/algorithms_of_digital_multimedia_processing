{
 "cells": [
  {
   "cell_type": "code",
   "execution_count": 1,
   "metadata": {},
   "outputs": [
    {
     "name": "stdout",
     "output_type": "stream",
     "text": [
      "Downloading data from https://storage.googleapis.com/tensorflow/tf-keras-datasets/mnist.npz\n",
      "11490434/11490434 [==============================] - 12s 1us/step\n",
      "(60000, 28, 28) (60000,)\n"
     ]
    }
   ],
   "source": [
    "import keras\n",
    "from keras.datasets import mnist\n",
    "from keras.models import Sequential\n",
    "from keras.layers import Dense, Dropout, Flatten\n",
    "from keras.layers import Conv2D, MaxPooling2D\n",
    "from keras import backend as K\n",
    "\n",
    "# скачиваем данные и разделяем на надор для обучения и тесовый\n",
    "(x_train, y_train), (x_test, y_test) = mnist.load_data()\n",
    "\n",
    "print(x_train.shape, y_train.shape)"
   ]
  },
  {
   "cell_type": "code",
   "execution_count": 2,
   "metadata": {},
   "outputs": [
    {
     "name": "stdout",
     "output_type": "stream",
     "text": [
      "Размерность x_train: (60000, 28, 28, 1)\n",
      "60000 Размер train\n",
      "10000 Размер test\n"
     ]
    }
   ],
   "source": [
    "num_classes = 10\n",
    "x_train = x_train.reshape(x_train.shape[0], 28, 28, 1)\n",
    "x_test = x_test.reshape(x_test.shape[0], 28, 28, 1)\n",
    "input_shape = (28, 28, 1)\n",
    "\n",
    "# преобразование векторных классов в бинарные матрицы\n",
    "y_train = keras.utils.to_categorical(y_train, num_classes)\n",
    "y_test = keras.utils.to_categorical(y_test, num_classes)\n",
    "\n",
    "x_train = x_train.astype('float32')\n",
    "x_test = x_test.astype('float32')\n",
    "x_train /= 255\n",
    "x_test /= 255\n",
    "print('Размерность x_train:', x_train.shape)\n",
    "print(x_train.shape[0], 'Размер train')\n",
    "print(x_test.shape[0], 'Размер test')"
   ]
  },
  {
   "cell_type": "code",
   "execution_count": 3,
   "metadata": {},
   "outputs": [],
   "source": [
    "batch_size = 128\n",
    "epochs = 10\n",
    "\n",
    "model = Sequential()\n",
    "model.add(Conv2D(32, kernel_size=(3, 3),activation='relu',input_shape=input_shape))\n",
    "model.add(Conv2D(64, (3, 3), activation='relu'))\n",
    "model.add(MaxPooling2D(pool_size=(2, 2)))\n",
    "model.add(Dropout(0.25))\n",
    "model.add(Flatten())\n",
    "model.add(Dense(256, activation='relu'))\n",
    "model.add(Dropout(0.5))\n",
    "model.add(Dense(num_classes, activation='softmax'))\n",
    "\n",
    "model.compile(loss=keras.losses.categorical_crossentropy,optimizer=keras.optimizers.Adadelta(),metrics=['accuracy'])"
   ]
  },
  {
   "cell_type": "code",
   "execution_count": 4,
   "metadata": {},
   "outputs": [
    {
     "name": "stdout",
     "output_type": "stream",
     "text": [
      "Epoch 1/10\n",
      "469/469 [==============================] - 46s 96ms/step - loss: 2.2588 - accuracy: 0.1719 - val_loss: 2.1999 - val_accuracy: 0.4308\n",
      "Epoch 2/10\n",
      "469/469 [==============================] - 43s 92ms/step - loss: 2.1611 - accuracy: 0.3247 - val_loss: 2.0765 - val_accuracy: 0.5740\n",
      "Epoch 3/10\n",
      "469/469 [==============================] - 44s 93ms/step - loss: 2.0305 - accuracy: 0.4495 - val_loss: 1.9067 - val_accuracy: 0.6594\n",
      "Epoch 4/10\n",
      "469/469 [==============================] - 43s 93ms/step - loss: 1.8552 - accuracy: 0.5411 - val_loss: 1.6850 - val_accuracy: 0.7313\n",
      "Epoch 5/10\n",
      "469/469 [==============================] - 43s 92ms/step - loss: 1.6422 - accuracy: 0.6060 - val_loss: 1.4282 - val_accuracy: 0.7803\n",
      "Epoch 6/10\n",
      "469/469 [==============================] - 45s 95ms/step - loss: 1.4141 - accuracy: 0.6536 - val_loss: 1.1781 - val_accuracy: 0.8064\n",
      "Epoch 7/10\n",
      "469/469 [==============================] - 50s 107ms/step - loss: 1.2123 - accuracy: 0.6887 - val_loss: 0.9740 - val_accuracy: 0.8199\n",
      "Epoch 8/10\n",
      "469/469 [==============================] - 47s 99ms/step - loss: 1.0593 - accuracy: 0.7110 - val_loss: 0.8247 - val_accuracy: 0.8307\n",
      "Epoch 9/10\n",
      "469/469 [==============================] - 46s 98ms/step - loss: 0.9421 - accuracy: 0.7340 - val_loss: 0.7191 - val_accuracy: 0.8425\n",
      "Epoch 10/10\n",
      "469/469 [==============================] - 47s 100ms/step - loss: 0.8583 - accuracy: 0.7492 - val_loss: 0.6438 - val_accuracy: 0.8522\n",
      "Модель успешно обучена\n",
      "Модель сохранена как svertka.keras\n"
     ]
    }
   ],
   "source": [
    "hist = model.fit(x_train, y_train, batch_size = batch_size, epochs=epochs, verbose=1, validation_data=(x_test, y_test))\n",
    "print(\"Модель успешно обучена\")\n",
    "\n",
    "model.save('svertka.keras')\n",
    "print(\"Модель сохранена как svertka.keras\")"
   ]
  },
  {
   "cell_type": "code",
   "execution_count": 7,
   "metadata": {},
   "outputs": [
    {
     "name": "stdout",
     "output_type": "stream",
     "text": [
      "Потери на тесте: 0.643791913986206\n",
      "Точность на тесте: 0.8521999716758728\n"
     ]
    }
   ],
   "source": [
    "score = model.evaluate(x_test, y_test, verbose=0)\n",
    "print('Потери на тесте:', score[0])\n",
    "print('Точность на тесте:', score[1])"
   ]
  },
  {
   "cell_type": "code",
   "execution_count": null,
   "metadata": {},
   "outputs": [],
   "source": []
  }
 ],
 "metadata": {
  "kernelspec": {
   "display_name": "Python 3.10.5 64-bit",
   "language": "python",
   "name": "python3"
  },
  "language_info": {
   "codemirror_mode": {
    "name": "ipython",
    "version": 3
   },
   "file_extension": ".py",
   "mimetype": "text/x-python",
   "name": "python",
   "nbconvert_exporter": "python",
   "pygments_lexer": "ipython3",
   "version": "3.11.6"
  },
  "vscode": {
   "interpreter": {
    "hash": "da32c008e18680bd23a3b0298d87e0b0f65fe62bf040a4359d6bd4163b9d68be"
   }
  }
 },
 "nbformat": 4,
 "nbformat_minor": 2
}
