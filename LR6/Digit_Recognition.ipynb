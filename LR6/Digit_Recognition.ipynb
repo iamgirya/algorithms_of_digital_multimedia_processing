{
 "cells": [
  {
   "cell_type": "code",
   "execution_count": 23,
   "metadata": {},
   "outputs": [
    {
     "name": "stdout",
     "output_type": "stream",
     "text": [
      "(60000, 28, 28) (60000,)\n"
     ]
    }
   ],
   "source": [
    "import keras\n",
    "from keras.datasets import mnist\n",
    "from keras.models import Sequential\n",
    "from keras.layers import Dense, Dropout, Flatten\n",
    "from keras.layers import Conv2D, MaxPooling2D\n",
    "from keras import backend as K\n",
    "\n",
    "# скачиваем данные и разделяем на надор для обучения и тесовый\n",
    "(x_train, y_train), (x_test, y_test) = mnist.load_data()\n",
    "\n",
    "print(x_train.shape, y_train.shape)"
   ]
  },
  {
   "cell_type": "code",
   "execution_count": 24,
   "metadata": {},
   "outputs": [
    {
     "name": "stdout",
     "output_type": "stream",
     "text": [
      "Размерность x_train: (60000, 28, 28, 1)\n",
      "60000 Размер train\n",
      "10000 Размер test\n"
     ]
    }
   ],
   "source": [
    "num_classes = 10\n",
    "x_train = x_train.reshape(x_train.shape[0], 28, 28, 1)\n",
    "x_test = x_test.reshape(x_test.shape[0], 28, 28, 1)\n",
    "input_shape = (28, 28, 1)\n",
    "\n",
    "# преобразование векторных классов в бинарные матрицы\n",
    "y_train = keras.utils.to_categorical(y_train, num_classes)\n",
    "y_test = keras.utils.to_categorical(y_test, num_classes)\n",
    "\n",
    "x_train = x_train.astype('float32')\n",
    "x_test = x_test.astype('float32')\n",
    "x_train /= 255\n",
    "x_test /= 255\n",
    "print('Размерность x_train:', x_train.shape)\n",
    "print(x_train.shape[0], 'Размер train')\n",
    "print(x_test.shape[0], 'Размер test')"
   ]
  },
  {
   "cell_type": "code",
   "execution_count": 27,
   "metadata": {},
   "outputs": [],
   "source": [
    "batch_size = 128\n",
    "epochs = 10\n",
    "\n",
    "model = Sequential()\n",
    "model.add(Conv2D(32, (3,3), padding='same', activation='relu', input_shape=(28, 28, 1)))\n",
    "model.add(MaxPooling2D((2, 2), strides=2))\n",
    "model.add(Conv2D(64, (3,3), padding='same', activation='relu'))\n",
    "model.add(MaxPooling2D((2, 2), strides=2))\n",
    "model.add(Flatten())\n",
    "model.add(Dense(128, activation='relu'))\n",
    "model.add(Dense(num_classes, activation='softmax'))\n",
    "\n",
    "model.compile(loss=keras.losses.categorical_crossentropy,optimizer=keras.optimizers.Adadelta(),metrics=['accuracy'])"
   ]
  },
  {
   "cell_type": "code",
   "execution_count": 28,
   "metadata": {},
   "outputs": [
    {
     "name": "stdout",
     "output_type": "stream",
     "text": [
      "Epoch 1/10\n",
      "469/469 [==============================] - 23s 49ms/step - loss: 2.2935 - accuracy: 0.1025 - val_loss: 2.2788 - val_accuracy: 0.1580\n",
      "Epoch 2/10\n",
      "469/469 [==============================] - 32s 69ms/step - loss: 2.2633 - accuracy: 0.2146 - val_loss: 2.2462 - val_accuracy: 0.2810\n",
      "Epoch 3/10\n",
      "469/469 [==============================] - 32s 69ms/step - loss: 2.2289 - accuracy: 0.3589 - val_loss: 2.2091 - val_accuracy: 0.4354\n",
      "Epoch 4/10\n",
      "469/469 [==============================] - 32s 69ms/step - loss: 2.1882 - accuracy: 0.4937 - val_loss: 2.1631 - val_accuracy: 0.5448\n",
      "Epoch 5/10\n",
      "469/469 [==============================] - 33s 69ms/step - loss: 2.1366 - accuracy: 0.5715 - val_loss: 2.1038 - val_accuracy: 0.6052\n",
      "Epoch 6/10\n",
      "469/469 [==============================] - 32s 69ms/step - loss: 2.0701 - accuracy: 0.6199 - val_loss: 2.0276 - val_accuracy: 0.6405\n",
      "Epoch 7/10\n",
      "469/469 [==============================] - 32s 69ms/step - loss: 1.9853 - accuracy: 0.6523 - val_loss: 1.9304 - val_accuracy: 0.6705\n",
      "Epoch 8/10\n",
      "469/469 [==============================] - 33s 70ms/step - loss: 1.8781 - accuracy: 0.6811 - val_loss: 1.8098 - val_accuracy: 0.6966\n",
      "Epoch 9/10\n",
      "469/469 [==============================] - 33s 70ms/step - loss: 1.7481 - accuracy: 0.7038 - val_loss: 1.6663 - val_accuracy: 0.7247\n",
      "Epoch 10/10\n",
      "469/469 [==============================] - 33s 70ms/step - loss: 1.5969 - accuracy: 0.7269 - val_loss: 1.5035 - val_accuracy: 0.7521\n",
      "Модель успешно обучена\n",
      "Модель сохранена как svertka.keras\n"
     ]
    }
   ],
   "source": [
    "hist = model.fit(x_train, y_train, batch_size = batch_size, epochs=epochs, verbose=1, validation_data=(x_test, y_test))\n",
    "print(\"Модель успешно обучена\")\n",
    "\n",
    "model.save('svertka'+str(epochs)+ '.keras')\n",
    "print(\"Модель сохранена как svertka.keras\")"
   ]
  },
  {
   "cell_type": "code",
   "execution_count": 29,
   "metadata": {},
   "outputs": [
    {
     "name": "stdout",
     "output_type": "stream",
     "text": [
      "Потери на тесте: 1.5035221576690674\n",
      "Точность на тесте: 0.7520999908447266\n"
     ]
    }
   ],
   "source": [
    "score = model.evaluate(x_test, y_test, verbose=0)\n",
    "print('Потери на тесте:', score[0])\n",
    "print('Точность на тесте:', score[1])"
   ]
  },
  {
   "cell_type": "code",
   "execution_count": null,
   "metadata": {},
   "outputs": [],
   "source": []
  }
 ],
 "metadata": {
  "kernelspec": {
   "display_name": "Python 3.10.5 64-bit",
   "language": "python",
   "name": "python3"
  },
  "language_info": {
   "codemirror_mode": {
    "name": "ipython",
    "version": 3
   },
   "file_extension": ".py",
   "mimetype": "text/x-python",
   "name": "python",
   "nbconvert_exporter": "python",
   "pygments_lexer": "ipython3",
   "version": "3.11.6"
  },
  "vscode": {
   "interpreter": {
    "hash": "da32c008e18680bd23a3b0298d87e0b0f65fe62bf040a4359d6bd4163b9d68be"
   }
  }
 },
 "nbformat": 4,
 "nbformat_minor": 2
}
