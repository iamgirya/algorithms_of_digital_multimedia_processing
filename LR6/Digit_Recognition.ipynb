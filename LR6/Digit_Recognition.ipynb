{
 "cells": [
  {
   "cell_type": "code",
   "execution_count": 23,
   "metadata": {},
   "outputs": [
    {
     "name": "stdout",
     "output_type": "stream",
     "text": [
      "(60000, 28, 28) (60000,)\n"
     ]
    }
   ],
   "source": [
    "import keras\n",
    "from keras.datasets import mnist\n",
    "from keras.models import Sequential\n",
    "from keras.layers import Dense, Dropout, Flatten\n",
    "from keras.layers import Conv2D, MaxPooling2D\n",
    "from keras import backend as K\n",
    "\n",
    "# скачиваем данные и разделяем на надор для обучения и тесовый\n",
    "(x_train, y_train), (x_test, y_test) = mnist.load_data()\n",
    "\n",
    "print(x_train.shape, y_train.shape)"
   ]
  },
  {
   "cell_type": "code",
   "execution_count": 24,
   "metadata": {},
   "outputs": [
    {
     "name": "stdout",
     "output_type": "stream",
     "text": [
      "Размерность x_train: (60000, 28, 28, 1)\n",
      "60000 Размер train\n",
      "10000 Размер test\n"
     ]
    }
   ],
   "source": [
    "num_classes = 10\n",
    "x_train = x_train.reshape(x_train.shape[0], 28, 28, 1)\n",
    "x_test = x_test.reshape(x_test.shape[0], 28, 28, 1)\n",
    "input_shape = (28, 28, 1)\n",
    "\n",
    "# преобразование векторных классов в бинарные матрицы\n",
    "y_train = keras.utils.to_categorical(y_train, num_classes)\n",
    "y_test = keras.utils.to_categorical(y_test, num_classes)\n",
    "\n",
    "x_train = x_train.astype('float32')\n",
    "x_test = x_test.astype('float32')\n",
    "x_train /= 255\n",
    "x_test /= 255\n",
    "print('Размерность x_train:', x_train.shape)\n",
    "print(x_train.shape[0], 'Размер train')\n",
    "print(x_test.shape[0], 'Размер test')"
   ]
  },
  {
   "cell_type": "code",
   "execution_count": 26,
   "metadata": {},
   "outputs": [
    {
     "ename": "TypeError",
     "evalue": "('Keyword argument not understood:', 'stride')",
     "output_type": "error",
     "traceback": [
      "\u001b[1;31m---------------------------------------------------------------------------\u001b[0m",
      "\u001b[1;31mTypeError\u001b[0m                                 Traceback (most recent call last)",
      "\u001b[1;32mc:\\Users\\danek\\Documents\\GitHub\\algorithms_of_digital_multimedia_processing\\LR6\\Digit_Recognition.ipynb Cell 3\u001b[0m line \u001b[0;36m5\n\u001b[0;32m      <a href='vscode-notebook-cell:/c%3A/Users/danek/Documents/GitHub/algorithms_of_digital_multimedia_processing/LR6/Digit_Recognition.ipynb#W2sZmlsZQ%3D%3D?line=1'>2</a>\u001b[0m epochs \u001b[39m=\u001b[39m \u001b[39m10\u001b[39m\n\u001b[0;32m      <a href='vscode-notebook-cell:/c%3A/Users/danek/Documents/GitHub/algorithms_of_digital_multimedia_processing/LR6/Digit_Recognition.ipynb#W2sZmlsZQ%3D%3D?line=3'>4</a>\u001b[0m model \u001b[39m=\u001b[39m Sequential()\n\u001b[1;32m----> <a href='vscode-notebook-cell:/c%3A/Users/danek/Documents/GitHub/algorithms_of_digital_multimedia_processing/LR6/Digit_Recognition.ipynb#W2sZmlsZQ%3D%3D?line=4'>5</a>\u001b[0m model\u001b[39m.\u001b[39madd(Conv2D(\u001b[39m32\u001b[39;49m, kernel_size\u001b[39m=\u001b[39;49m(\u001b[39m5\u001b[39;49m,\u001b[39m5\u001b[39;49m), stride\u001b[39m=\u001b[39;49m\u001b[39m1\u001b[39;49m, padding\u001b[39m=\u001b[39;49m\u001b[39m2\u001b[39;49m, activation\u001b[39m=\u001b[39;49m\u001b[39m'\u001b[39;49m\u001b[39mrelu\u001b[39;49m\u001b[39m'\u001b[39;49m))\n\u001b[0;32m      <a href='vscode-notebook-cell:/c%3A/Users/danek/Documents/GitHub/algorithms_of_digital_multimedia_processing/LR6/Digit_Recognition.ipynb#W2sZmlsZQ%3D%3D?line=5'>6</a>\u001b[0m model\u001b[39m.\u001b[39madd(MaxPooling2D(kernel_size\u001b[39m=\u001b[39m(\u001b[39m5\u001b[39m,\u001b[39m5\u001b[39m), stride\u001b[39m=\u001b[39m\u001b[39m2\u001b[39m))\n\u001b[0;32m      <a href='vscode-notebook-cell:/c%3A/Users/danek/Documents/GitHub/algorithms_of_digital_multimedia_processing/LR6/Digit_Recognition.ipynb#W2sZmlsZQ%3D%3D?line=6'>7</a>\u001b[0m model\u001b[39m.\u001b[39madd(Conv2D(\u001b[39m64\u001b[39m, kernel_size\u001b[39m=\u001b[39m\u001b[39m5\u001b[39m, stride\u001b[39m=\u001b[39m\u001b[39m1\u001b[39m, padding\u001b[39m=\u001b[39m\u001b[39m2\u001b[39m, activation\u001b[39m=\u001b[39m\u001b[39m'\u001b[39m\u001b[39mrelu\u001b[39m\u001b[39m'\u001b[39m))\n",
      "File \u001b[1;32mc:\\Users\\danek\\AppData\\Local\\Programs\\Python\\Python311\\Lib\\site-packages\\keras\\src\\dtensor\\utils.py:96\u001b[0m, in \u001b[0;36mallow_initializer_layout.<locals>._wrap_function\u001b[1;34m(layer_instance, *args, **kwargs)\u001b[0m\n\u001b[0;32m     93\u001b[0m         \u001b[39mif\u001b[39;00m layout:\n\u001b[0;32m     94\u001b[0m             layout_args[variable_name \u001b[39m+\u001b[39m \u001b[39m\"\u001b[39m\u001b[39m_layout\u001b[39m\u001b[39m\"\u001b[39m] \u001b[39m=\u001b[39m layout\n\u001b[1;32m---> 96\u001b[0m init_method(layer_instance, \u001b[39m*\u001b[39;49margs, \u001b[39m*\u001b[39;49m\u001b[39m*\u001b[39;49mkwargs)\n\u001b[0;32m     98\u001b[0m \u001b[39m# Inject the layout parameter after the invocation of __init__()\u001b[39;00m\n\u001b[0;32m     99\u001b[0m \u001b[39mfor\u001b[39;00m layout_param_name, layout \u001b[39min\u001b[39;00m layout_args\u001b[39m.\u001b[39mitems():\n",
      "File \u001b[1;32mc:\\Users\\danek\\AppData\\Local\\Programs\\Python\\Python311\\Lib\\site-packages\\keras\\src\\layers\\convolutional\\conv2d.py:179\u001b[0m, in \u001b[0;36mConv2D.__init__\u001b[1;34m(self, filters, kernel_size, strides, padding, data_format, dilation_rate, groups, activation, use_bias, kernel_initializer, bias_initializer, kernel_regularizer, bias_regularizer, activity_regularizer, kernel_constraint, bias_constraint, **kwargs)\u001b[0m\n\u001b[0;32m    158\u001b[0m \u001b[39m@utils\u001b[39m\u001b[39m.\u001b[39mallow_initializer_layout\n\u001b[0;32m    159\u001b[0m \u001b[39mdef\u001b[39;00m \u001b[39m__init__\u001b[39m(\n\u001b[0;32m    160\u001b[0m     \u001b[39mself\u001b[39m,\n\u001b[1;32m   (...)\u001b[0m\n\u001b[0;32m    177\u001b[0m     \u001b[39m*\u001b[39m\u001b[39m*\u001b[39mkwargs\n\u001b[0;32m    178\u001b[0m ):\n\u001b[1;32m--> 179\u001b[0m     \u001b[39msuper\u001b[39;49m()\u001b[39m.\u001b[39;49m\u001b[39m__init__\u001b[39;49m(\n\u001b[0;32m    180\u001b[0m         rank\u001b[39m=\u001b[39;49m\u001b[39m2\u001b[39;49m,\n\u001b[0;32m    181\u001b[0m         filters\u001b[39m=\u001b[39;49mfilters,\n\u001b[0;32m    182\u001b[0m         kernel_size\u001b[39m=\u001b[39;49mkernel_size,\n\u001b[0;32m    183\u001b[0m         strides\u001b[39m=\u001b[39;49mstrides,\n\u001b[0;32m    184\u001b[0m         padding\u001b[39m=\u001b[39;49mpadding,\n\u001b[0;32m    185\u001b[0m         data_format\u001b[39m=\u001b[39;49mdata_format,\n\u001b[0;32m    186\u001b[0m         dilation_rate\u001b[39m=\u001b[39;49mdilation_rate,\n\u001b[0;32m    187\u001b[0m         groups\u001b[39m=\u001b[39;49mgroups,\n\u001b[0;32m    188\u001b[0m         activation\u001b[39m=\u001b[39;49mactivations\u001b[39m.\u001b[39;49mget(activation),\n\u001b[0;32m    189\u001b[0m         use_bias\u001b[39m=\u001b[39;49muse_bias,\n\u001b[0;32m    190\u001b[0m         kernel_initializer\u001b[39m=\u001b[39;49minitializers\u001b[39m.\u001b[39;49mget(kernel_initializer),\n\u001b[0;32m    191\u001b[0m         bias_initializer\u001b[39m=\u001b[39;49minitializers\u001b[39m.\u001b[39;49mget(bias_initializer),\n\u001b[0;32m    192\u001b[0m         kernel_regularizer\u001b[39m=\u001b[39;49mregularizers\u001b[39m.\u001b[39;49mget(kernel_regularizer),\n\u001b[0;32m    193\u001b[0m         bias_regularizer\u001b[39m=\u001b[39;49mregularizers\u001b[39m.\u001b[39;49mget(bias_regularizer),\n\u001b[0;32m    194\u001b[0m         activity_regularizer\u001b[39m=\u001b[39;49mregularizers\u001b[39m.\u001b[39;49mget(activity_regularizer),\n\u001b[0;32m    195\u001b[0m         kernel_constraint\u001b[39m=\u001b[39;49mconstraints\u001b[39m.\u001b[39;49mget(kernel_constraint),\n\u001b[0;32m    196\u001b[0m         bias_constraint\u001b[39m=\u001b[39;49mconstraints\u001b[39m.\u001b[39;49mget(bias_constraint),\n\u001b[0;32m    197\u001b[0m         \u001b[39m*\u001b[39;49m\u001b[39m*\u001b[39;49mkwargs\n\u001b[0;32m    198\u001b[0m     )\n",
      "File \u001b[1;32mc:\\Users\\danek\\AppData\\Local\\Programs\\Python\\Python311\\Lib\\site-packages\\keras\\src\\layers\\convolutional\\base_conv.py:118\u001b[0m, in \u001b[0;36mConv.__init__\u001b[1;34m(self, rank, filters, kernel_size, strides, padding, data_format, dilation_rate, groups, activation, use_bias, kernel_initializer, bias_initializer, kernel_regularizer, bias_regularizer, activity_regularizer, kernel_constraint, bias_constraint, trainable, name, conv_op, **kwargs)\u001b[0m\n\u001b[0;32m     94\u001b[0m \u001b[39mdef\u001b[39;00m \u001b[39m__init__\u001b[39m(\n\u001b[0;32m     95\u001b[0m     \u001b[39mself\u001b[39m,\n\u001b[0;32m     96\u001b[0m     rank,\n\u001b[1;32m   (...)\u001b[0m\n\u001b[0;32m    116\u001b[0m     \u001b[39m*\u001b[39m\u001b[39m*\u001b[39mkwargs,\n\u001b[0;32m    117\u001b[0m ):\n\u001b[1;32m--> 118\u001b[0m     \u001b[39msuper\u001b[39;49m()\u001b[39m.\u001b[39;49m\u001b[39m__init__\u001b[39;49m(\n\u001b[0;32m    119\u001b[0m         trainable\u001b[39m=\u001b[39;49mtrainable,\n\u001b[0;32m    120\u001b[0m         name\u001b[39m=\u001b[39;49mname,\n\u001b[0;32m    121\u001b[0m         activity_regularizer\u001b[39m=\u001b[39;49mregularizers\u001b[39m.\u001b[39;49mget(activity_regularizer),\n\u001b[0;32m    122\u001b[0m         \u001b[39m*\u001b[39;49m\u001b[39m*\u001b[39;49mkwargs,\n\u001b[0;32m    123\u001b[0m     )\n\u001b[0;32m    124\u001b[0m     \u001b[39mself\u001b[39m\u001b[39m.\u001b[39mrank \u001b[39m=\u001b[39m rank\n\u001b[0;32m    126\u001b[0m     \u001b[39mif\u001b[39;00m \u001b[39misinstance\u001b[39m(filters, \u001b[39mfloat\u001b[39m):\n",
      "File \u001b[1;32mc:\\Users\\danek\\AppData\\Local\\Programs\\Python\\Python311\\Lib\\site-packages\\tensorflow\\python\\trackable\\base.py:204\u001b[0m, in \u001b[0;36mno_automatic_dependency_tracking.<locals>._method_wrapper\u001b[1;34m(self, *args, **kwargs)\u001b[0m\n\u001b[0;32m    202\u001b[0m \u001b[39mself\u001b[39m\u001b[39m.\u001b[39m_self_setattr_tracking \u001b[39m=\u001b[39m \u001b[39mFalse\u001b[39;00m  \u001b[39m# pylint: disable=protected-access\u001b[39;00m\n\u001b[0;32m    203\u001b[0m \u001b[39mtry\u001b[39;00m:\n\u001b[1;32m--> 204\u001b[0m   result \u001b[39m=\u001b[39m method(\u001b[39mself\u001b[39;49m, \u001b[39m*\u001b[39;49margs, \u001b[39m*\u001b[39;49m\u001b[39m*\u001b[39;49mkwargs)\n\u001b[0;32m    205\u001b[0m \u001b[39mfinally\u001b[39;00m:\n\u001b[0;32m    206\u001b[0m   \u001b[39mself\u001b[39m\u001b[39m.\u001b[39m_self_setattr_tracking \u001b[39m=\u001b[39m previous_value  \u001b[39m# pylint: disable=protected-access\u001b[39;00m\n",
      "File \u001b[1;32mc:\\Users\\danek\\AppData\\Local\\Programs\\Python\\Python311\\Lib\\site-packages\\keras\\src\\engine\\base_layer.py:340\u001b[0m, in \u001b[0;36mLayer.__init__\u001b[1;34m(self, trainable, name, dtype, dynamic, **kwargs)\u001b[0m\n\u001b[0;32m    329\u001b[0m allowed_kwargs \u001b[39m=\u001b[39m {\n\u001b[0;32m    330\u001b[0m     \u001b[39m\"\u001b[39m\u001b[39minput_dim\u001b[39m\u001b[39m\"\u001b[39m,\n\u001b[0;32m    331\u001b[0m     \u001b[39m\"\u001b[39m\u001b[39minput_shape\u001b[39m\u001b[39m\"\u001b[39m,\n\u001b[1;32m   (...)\u001b[0m\n\u001b[0;32m    337\u001b[0m     \u001b[39m\"\u001b[39m\u001b[39mimplementation\u001b[39m\u001b[39m\"\u001b[39m,\n\u001b[0;32m    338\u001b[0m }\n\u001b[0;32m    339\u001b[0m \u001b[39m# Validate optional keyword arguments.\u001b[39;00m\n\u001b[1;32m--> 340\u001b[0m generic_utils\u001b[39m.\u001b[39;49mvalidate_kwargs(kwargs, allowed_kwargs)\n\u001b[0;32m    342\u001b[0m \u001b[39m# Mutable properties\u001b[39;00m\n\u001b[0;32m    343\u001b[0m \u001b[39m# Indicates whether the layer's weights are updated during training\u001b[39;00m\n\u001b[0;32m    344\u001b[0m \u001b[39m# and whether the layer's updates are run during training.\u001b[39;00m\n\u001b[0;32m    345\u001b[0m \u001b[39mif\u001b[39;00m \u001b[39mnot\u001b[39;00m (\n\u001b[0;32m    346\u001b[0m     \u001b[39misinstance\u001b[39m(trainable, \u001b[39mbool\u001b[39m)\n\u001b[0;32m    347\u001b[0m     \u001b[39mor\u001b[39;00m (\n\u001b[1;32m   (...)\u001b[0m\n\u001b[0;32m    350\u001b[0m     )\n\u001b[0;32m    351\u001b[0m ):\n",
      "File \u001b[1;32mc:\\Users\\danek\\AppData\\Local\\Programs\\Python\\Python311\\Lib\\site-packages\\keras\\src\\utils\\generic_utils.py:514\u001b[0m, in \u001b[0;36mvalidate_kwargs\u001b[1;34m(kwargs, allowed_kwargs, error_message)\u001b[0m\n\u001b[0;32m    512\u001b[0m \u001b[39mfor\u001b[39;00m kwarg \u001b[39min\u001b[39;00m kwargs:\n\u001b[0;32m    513\u001b[0m     \u001b[39mif\u001b[39;00m kwarg \u001b[39mnot\u001b[39;00m \u001b[39min\u001b[39;00m allowed_kwargs:\n\u001b[1;32m--> 514\u001b[0m         \u001b[39mraise\u001b[39;00m \u001b[39mTypeError\u001b[39;00m(error_message, kwarg)\n",
      "\u001b[1;31mTypeError\u001b[0m: ('Keyword argument not understood:', 'stride')"
     ]
    }
   ],
   "source": [
    "batch_size = 128\n",
    "epochs = 10\n",
    "\n",
    "model = Sequential()\n",
    "model.add(Conv2D(32, (3,3), padding='same', activation='relu', input_shape=(28, 28, 1)))\n",
    "model.add(MaxPooling2D((2, 2), strides=2))\n",
    "model.add(Conv2D(64, (3,3), padding='same', activation='relu'))\n",
    "model.add(MaxPooling2D((2, 2), strides=2))\n",
    "model.add(Flatten())\n",
    "model.add(Dense(128, activation='relu'))\n",
    "model.add(Dense(num_classes, activation='softmax'))\n",
    "\n",
    "model.compile(loss=keras.losses.categorical_crossentropy,optimizer=keras.optimizers.Adadelta(),metrics=['accuracy'])"
   ]
  },
  {
   "cell_type": "code",
   "execution_count": null,
   "metadata": {},
   "outputs": [
    {
     "name": "stdout",
     "output_type": "stream",
     "text": [
      "Epoch 1/10\n",
      "469/469 [==============================] - 72s 154ms/step - loss: 2.2718 - accuracy: 0.1809 - val_loss: 2.2274 - val_accuracy: 0.4244\n",
      "Epoch 2/10\n",
      "469/469 [==============================] - 80s 170ms/step - loss: 2.1991 - accuracy: 0.3257 - val_loss: 2.1337 - val_accuracy: 0.6161\n",
      "Epoch 3/10\n",
      "469/469 [==============================] - 80s 170ms/step - loss: 2.0997 - accuracy: 0.4385 - val_loss: 2.0032 - val_accuracy: 0.6993\n",
      "Epoch 4/10\n",
      "469/469 [==============================] - 80s 170ms/step - loss: 1.9603 - accuracy: 0.5253 - val_loss: 1.8250 - val_accuracy: 0.7394\n",
      "Epoch 5/10\n",
      "469/469 [==============================] - 79s 169ms/step - loss: 1.7777 - accuracy: 0.5885 - val_loss: 1.5963 - val_accuracy: 0.7677\n",
      "Epoch 6/10\n",
      "469/469 [==============================] - 78s 166ms/step - loss: 1.5601 - accuracy: 0.6341 - val_loss: 1.3414 - val_accuracy: 0.7896\n",
      "Epoch 7/10\n",
      "469/469 [==============================] - 78s 165ms/step - loss: 1.3446 - accuracy: 0.6658 - val_loss: 1.1106 - val_accuracy: 0.8063\n",
      "Epoch 8/10\n",
      "469/469 [==============================] - 78s 165ms/step - loss: 1.1647 - accuracy: 0.6921 - val_loss: 0.9307 - val_accuracy: 0.8192\n",
      "Epoch 9/10\n",
      "469/469 [==============================] - 78s 165ms/step - loss: 1.0315 - accuracy: 0.7147 - val_loss: 0.8002 - val_accuracy: 0.8302\n",
      "Epoch 10/10\n",
      "469/469 [==============================] - 78s 166ms/step - loss: 0.9249 - accuracy: 0.7363 - val_loss: 0.7070 - val_accuracy: 0.8391\n",
      "Модель успешно обучена\n",
      "Модель сохранена как svertka.keras\n"
     ]
    }
   ],
   "source": [
    "hist = model.fit(x_train, y_train, batch_size = batch_size, epochs=epochs, verbose=1, validation_data=(x_test, y_test))\n",
    "print(\"Модель успешно обучена\")\n",
    "\n",
    "model.save('svertka'+str(epochs)+ '.keras')\n",
    "print(\"Модель сохранена как svertka.keras\")"
   ]
  },
  {
   "cell_type": "code",
   "execution_count": null,
   "metadata": {},
   "outputs": [
    {
     "name": "stdout",
     "output_type": "stream",
     "text": [
      "Потери на тесте: 0.7070377469062805\n",
      "Точность на тесте: 0.8391000032424927\n"
     ]
    }
   ],
   "source": [
    "score = model.evaluate(x_test, y_test, verbose=0)\n",
    "print('Потери на тесте:', score[0])\n",
    "print('Точность на тесте:', score[1])"
   ]
  },
  {
   "cell_type": "code",
   "execution_count": null,
   "metadata": {},
   "outputs": [],
   "source": []
  }
 ],
 "metadata": {
  "kernelspec": {
   "display_name": "Python 3.10.5 64-bit",
   "language": "python",
   "name": "python3"
  },
  "language_info": {
   "codemirror_mode": {
    "name": "ipython",
    "version": 3
   },
   "file_extension": ".py",
   "mimetype": "text/x-python",
   "name": "python",
   "nbconvert_exporter": "python",
   "pygments_lexer": "ipython3",
   "version": "3.11.6"
  },
  "vscode": {
   "interpreter": {
    "hash": "da32c008e18680bd23a3b0298d87e0b0f65fe62bf040a4359d6bd4163b9d68be"
   }
  }
 },
 "nbformat": 4,
 "nbformat_minor": 2
}
