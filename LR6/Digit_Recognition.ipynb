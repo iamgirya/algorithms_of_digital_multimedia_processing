{
 "cells": [
  {
   "cell_type": "code",
   "execution_count": 19,
   "metadata": {},
   "outputs": [
    {
     "name": "stdout",
     "output_type": "stream",
     "text": [
      "(60000, 28, 28) (60000,)\n"
     ]
    }
   ],
   "source": [
    "import keras\n",
    "from keras.datasets import mnist\n",
    "from keras.models import Sequential\n",
    "from keras.layers import Dense, Dropout, Flatten\n",
    "from keras.layers import Conv2D, MaxPooling2D\n",
    "from keras import backend as K\n",
    "\n",
    "# скачиваем данные и разделяем на надор для обучения и тесовый\n",
    "(x_train, y_train), (x_test, y_test) = mnist.load_data()\n",
    "\n",
    "print(x_train.shape, y_train.shape)"
   ]
  },
  {
   "cell_type": "code",
   "execution_count": 20,
   "metadata": {},
   "outputs": [
    {
     "name": "stdout",
     "output_type": "stream",
     "text": [
      "Размерность x_train: (60000, 28, 28, 1)\n",
      "60000 Размер train\n",
      "10000 Размер test\n"
     ]
    }
   ],
   "source": [
    "num_classes = 10\n",
    "x_train = x_train.reshape(x_train.shape[0], 28, 28, 1)\n",
    "x_test = x_test.reshape(x_test.shape[0], 28, 28, 1)\n",
    "input_shape = (28, 28, 1)\n",
    "\n",
    "# преобразование векторных классов в бинарные матрицы\n",
    "y_train = keras.utils.to_categorical(y_train, num_classes)\n",
    "y_test = keras.utils.to_categorical(y_test, num_classes)\n",
    "\n",
    "x_train = x_train.astype('float32')\n",
    "x_test = x_test.astype('float32')\n",
    "x_train /= 255\n",
    "x_test /= 255\n",
    "print('Размерность x_train:', x_train.shape)\n",
    "print(x_train.shape[0], 'Размер train')\n",
    "print(x_test.shape[0], 'Размер test')"
   ]
  },
  {
   "cell_type": "code",
   "execution_count": 21,
   "metadata": {},
   "outputs": [],
   "source": [
    "batch_size = 128\n",
    "epochs = 20\n",
    "\n",
    "model = Sequential()\n",
    "model.add(Conv2D(32, kernel_size=(3, 3),activation='relu',input_shape=input_shape))\n",
    "model.add(Conv2D(64, (3, 3), activation='relu'))\n",
    "model.add(MaxPooling2D(pool_size=(2, 2)))\n",
    "model.add(Dropout(0.25))\n",
    "model.add(Flatten())\n",
    "model.add(Dense(256, activation='relu'))\n",
    "model.add(Dropout(0.5))\n",
    "model.add(Dense(num_classes, activation='softmax'))\n",
    "\n",
    "model.compile(loss=keras.losses.categorical_crossentropy,optimizer=keras.optimizers.Adadelta(),metrics=['accuracy'])"
   ]
  },
  {
   "cell_type": "code",
   "execution_count": 22,
   "metadata": {},
   "outputs": [
    {
     "name": "stdout",
     "output_type": "stream",
     "text": [
      "Epoch 1/20\n",
      "469/469 [==============================] - 37s 77ms/step - loss: 2.2841 - accuracy: 0.1454 - val_loss: 2.2521 - val_accuracy: 0.2737\n",
      "Epoch 2/20\n",
      "469/469 [==============================] - 36s 76ms/step - loss: 2.2324 - accuracy: 0.2726 - val_loss: 2.1871 - val_accuracy: 0.4917\n",
      "Epoch 3/20\n",
      "469/469 [==============================] - 36s 77ms/step - loss: 2.1627 - accuracy: 0.3877 - val_loss: 2.0972 - val_accuracy: 0.6116\n",
      "Epoch 4/20\n",
      "469/469 [==============================] - 37s 78ms/step - loss: 2.0642 - accuracy: 0.4820 - val_loss: 1.9698 - val_accuracy: 0.6799\n",
      "Epoch 5/20\n",
      "469/469 [==============================] - 37s 78ms/step - loss: 1.9267 - accuracy: 0.5487 - val_loss: 1.7921 - val_accuracy: 0.7153\n",
      "Epoch 6/20\n",
      "469/469 [==============================] - 36s 78ms/step - loss: 1.7403 - accuracy: 0.6022 - val_loss: 1.5626 - val_accuracy: 0.7497\n",
      "Epoch 7/20\n",
      "469/469 [==============================] - 36s 78ms/step - loss: 1.5247 - accuracy: 0.6409 - val_loss: 1.3098 - val_accuracy: 0.7790\n",
      "Epoch 8/20\n",
      "469/469 [==============================] - 37s 78ms/step - loss: 1.3141 - accuracy: 0.6711 - val_loss: 1.0805 - val_accuracy: 0.8024\n",
      "Epoch 9/20\n",
      "469/469 [==============================] - 37s 78ms/step - loss: 1.1399 - accuracy: 0.6965 - val_loss: 0.9046 - val_accuracy: 0.8184\n",
      "Epoch 10/20\n",
      "469/469 [==============================] - 37s 78ms/step - loss: 1.0077 - accuracy: 0.7186 - val_loss: 0.7785 - val_accuracy: 0.8298\n",
      "Epoch 11/20\n",
      "469/469 [==============================] - 37s 78ms/step - loss: 0.9074 - accuracy: 0.7384 - val_loss: 0.6890 - val_accuracy: 0.8415\n",
      "Epoch 12/20\n",
      "469/469 [==============================] - 37s 78ms/step - loss: 0.8346 - accuracy: 0.7531 - val_loss: 0.6232 - val_accuracy: 0.8514\n",
      "Epoch 13/20\n",
      "469/469 [==============================] - 37s 78ms/step - loss: 0.7780 - accuracy: 0.7673 - val_loss: 0.5739 - val_accuracy: 0.8586\n",
      "Epoch 14/20\n",
      "469/469 [==============================] - 37s 78ms/step - loss: 0.7343 - accuracy: 0.7786 - val_loss: 0.5356 - val_accuracy: 0.8646\n",
      "Epoch 15/20\n",
      "469/469 [==============================] - 37s 78ms/step - loss: 0.6950 - accuracy: 0.7896 - val_loss: 0.5049 - val_accuracy: 0.8703\n",
      "Epoch 16/20\n",
      "469/469 [==============================] - 37s 78ms/step - loss: 0.6641 - accuracy: 0.7990 - val_loss: 0.4799 - val_accuracy: 0.8746\n",
      "Epoch 17/20\n",
      "469/469 [==============================] - 36s 78ms/step - loss: 0.6374 - accuracy: 0.8057 - val_loss: 0.4590 - val_accuracy: 0.8782\n",
      "Epoch 18/20\n",
      "469/469 [==============================] - 36s 76ms/step - loss: 0.6172 - accuracy: 0.8102 - val_loss: 0.4412 - val_accuracy: 0.8830\n",
      "Epoch 19/20\n",
      "469/469 [==============================] - 36s 76ms/step - loss: 0.5921 - accuracy: 0.8204 - val_loss: 0.4254 - val_accuracy: 0.8862\n",
      "Epoch 20/20\n",
      "469/469 [==============================] - 36s 76ms/step - loss: 0.5793 - accuracy: 0.8239 - val_loss: 0.4125 - val_accuracy: 0.8884\n",
      "Модель успешно обучена\n",
      "Модель сохранена как svertka.keras\n"
     ]
    }
   ],
   "source": [
    "hist = model.fit(x_train, y_train, batch_size = batch_size, epochs=epochs, verbose=1, validation_data=(x_test, y_test))\n",
    "print(\"Модель успешно обучена\")\n",
    "\n",
    "model.save('svertka'+str(epochs)+ '.keras')\n",
    "print(\"Модель сохранена как svertka.keras\")"
   ]
  },
  {
   "cell_type": "code",
   "execution_count": 23,
   "metadata": {},
   "outputs": [
    {
     "name": "stdout",
     "output_type": "stream",
     "text": [
      "Потери на тесте: 0.41253378987312317\n",
      "Точность на тесте: 0.8884000182151794\n"
     ]
    }
   ],
   "source": [
    "score = model.evaluate(x_test, y_test, verbose=0)\n",
    "print('Потери на тесте:', score[0])\n",
    "print('Точность на тесте:', score[1])"
   ]
  },
  {
   "cell_type": "code",
   "execution_count": null,
   "metadata": {},
   "outputs": [],
   "source": []
  }
 ],
 "metadata": {
  "kernelspec": {
   "display_name": "Python 3.10.5 64-bit",
   "language": "python",
   "name": "python3"
  },
  "language_info": {
   "codemirror_mode": {
    "name": "ipython",
    "version": 3
   },
   "file_extension": ".py",
   "mimetype": "text/x-python",
   "name": "python",
   "nbconvert_exporter": "python",
   "pygments_lexer": "ipython3",
   "version": "3.11.6"
  },
  "vscode": {
   "interpreter": {
    "hash": "da32c008e18680bd23a3b0298d87e0b0f65fe62bf040a4359d6bd4163b9d68be"
   }
  }
 },
 "nbformat": 4,
 "nbformat_minor": 2
}
